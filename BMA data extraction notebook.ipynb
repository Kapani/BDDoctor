{
 "cells": [
  {
   "cell_type": "markdown",
   "metadata": {},
   "source": [
    "##Bangladesh Medical Association(BMA) member data extraction\n",
    "\n",
    "Version : 1.0<br>\n",
    "Date : 2015-05-21\n",
    "\n",
    "This notebook will illustrate the approach undertaken to extract the BMA doctor's registration. All doctors in Bangladesh recive a registration number at BMA after successfully completing their internship. Using that number they can establish their credivbility as a doctor. Using these numbers one can verify that someone is a legitimate doctor.\n",
    "\n",
    "Using [BMA search portal](http://bmdc.org.bd/doctors-info/) one can search using only the registration number. But since it is not common in this country to routinely publish their BMA number, we need an interface using which we can search the database using doctor's name also.\n",
    "\n",
    "###Tools used:\n",
    "\n",
    "- Python 2\n",
    "- IPython : python module which provided a python shell for interactive computing within a browser and terminal\n",
    "- Mechanize : python module for interacting with web page and submitting form (Python 2 only module)\n",
    "- Pandas : python module for handling large dataset\n",
    "- Requests: simple HTTP library for python\n",
    "\n",
    "Unfortunately the data is very barebone at BMA website. Doctor's name, father's name, address and an official photo is provided against each id number. But we can create a master table which we can populate from other sources.\n",
    "\n",
    "This interface provides us 66000 medical doctor and 4000 dental doctor's worth of information. Currently we have around 70000 doctors in our country. So up can expect data upto couple year ago.\n",
    "\n",
    "This is a first attempt to collect the data and accumulate them. Several crude hacks were employed to ensure that a working model is up and running as soon as possible. Initially the informations are dumped in a CSV files after we have all the data they will be imported into a PostgreSQL database.\n",
    "\n",
    "First use of the database might be to implement an mobile app interface where a patient can search for a doctor by his name or registration number and see his photo to verify that he is legit doctor."
   ]
  },
  {
   "cell_type": "markdown",
   "metadata": {},
   "source": [
    "###Extraction"
   ]
  },
  {
   "cell_type": "code",
   "execution_count": 6,
   "metadata": {
    "collapsed": true
   },
   "outputs": [],
   "source": [
    "#Load the necessary modules\n",
    "from mechanize import Browser\n",
    "import pandas as pd\n",
    "from IPython.core.display import HTML\n",
    "import requests"
   ]
  },
  {
   "cell_type": "markdown",
   "metadata": {},
   "source": [
    "We need a function to parse the HTML data after extracting the result."
   ]
  },
  {
   "cell_type": "code",
   "execution_count": null,
   "metadata": {
    "collapsed": true
   },
   "outputs": [],
   "source": [
    "def extract_sub_string(string, start, finish):\n",
    "    \"\"\"\n",
    "    extract a substring between the 'start' substring and the first occurence of 'finish' substring after that point.\n",
    "    \n",
    "    :param string: main string, to be parsed\n",
    "    :type string: str\n",
    "    \n",
    "    :param start: starting string\n",
    "    :type start: str\n",
    "    \n",
    "    :param end: ending string\n",
    "    :type end: str\n",
    "    \"\"\"\n",
    "    new_string_index = string.find(start)\n",
    "    new_string = string[new_string_index:]\n",
    "    end_index =new_string.find(finish)\n",
    "    final_string = string[new_string_index:new_string_index+end_index]\n",
    "    return final_string"
   ]
  },
  {
   "cell_type": "markdown",
   "metadata": {},
   "source": [
    "Now we extract the result pages against each of the id(1 to 66000) and store the strings in a pandas Dataframe. We will tokenize the resultant string later."
   ]
  },
  {
   "cell_type": "code",
   "execution_count": null,
   "metadata": {
    "collapsed": true
   },
   "outputs": [],
   "source": [
    "start = 'doctor_info'\n",
    "finish=\"</div\"\n",
    "extracted_strings = []\n",
    "extracted_df = pd.DataFrame(columns=['extracted'])\n",
    "\n",
    "for reg_no in xrange(1,66001):\n",
    "    browser = Browser()\n",
    "    browser.open(\"http://bmdc.org.bd/doctors-info/\")\n",
    "    for form in browser.forms():\n",
    "        pass\n",
    "    # We have 2 forms in this page and we going to select the second form\n",
    "    browser.select_form(nr=1)\n",
    "    # This form has 2 input fields, first field, search_doc_id takes an number and second field type indicates if the \n",
    "    # id is assocated to a medical doctor or dentist\n",
    "    form['search_doc_id']=str(reg_no)\n",
    "    form['type']=['1']\n",
    "    # Submit the form and read the result\n",
    "    response = browser.submit()\n",
    "    content = response.read()\n",
    "    str_content = str(content)\n",
    "    #Extract only the relevant portion\n",
    "    extracted_str = extract_sub_string(str_content, start, finish)\n",
    "    extracted_strings.append(extracted_str)\n",
    "    # Originally these commnted out snipppets were run so that each group of 100 doctors are recorded at a time in \n",
    "    # seperate csv files. for testing and stability purpose. Each 100 doctors took around 6-7 minutes to record.\n",
    "    #if reg_no%100==0:\n",
    "    #    file_number = reg_no/100\n",
    "    #    extracted_df = pd.DataFrame(columns=['extracted'])\n",
    "    #    extracted_df.extracted = extracted_strings\n",
    "    #    extracted_df.to_csv(str(file_number)+'.csv')\n",
    "    #    extracted_strings = []\n",
    "extracted_df.extracted = extracted_strings\n",
    "extracted_df.to_csv('all_bma_doctor.csv')"
   ]
  },
  {
   "cell_type": "markdown",
   "metadata": {},
   "source": [
    "###Parsing\n",
    "\n",
    "Now upon observation we will see that nugges of information is encapsulated within a specific piece of HTML sting. Using those patterns we can extract the relevant informations."
   ]
  },
  {
   "cell_type": "code",
   "execution_count": null,
   "metadata": {
    "collapsed": true
   },
   "outputs": [],
   "source": [
    "tokenized_df = pd.DataFrame(columns=['Registration','Name','Father','Address', 'Division'])\n",
    "\n",
    "#Since originally we created a number of csv files each containing 100 doctors we parsed them differently.\n",
    "#file_list = []\n",
    "#for item in xrange(1,66):\n",
    "#    file_list.append(str(item)+'.csv')\n",
    "#for file_ in file_list:\n",
    "    \n",
    "\n",
    "df = pd.read_csv('all_bma_doctor.csv')\n",
    "    \n",
    "for index in df.index:\n",
    "        string = df.ix[index, 'extracted']\n",
    "\n",
    "        start=\"Registration Number</td>\\r\\n\"                      \n",
    "        finish='</td>\\r\\n                                  </tr>\\r\\n\\r\\n                                  <tr class=\"odd\">\\r\\n'\n",
    "        reg_no = extract_sub_string(string , start, finish)\n",
    "        reg_no = reg_no.strip()\n",
    "        reg_no = reg_no.split(\" \")[-1]\n",
    "        #reg_no\n",
    "\n",
    "        start = '<td>Doctor\\'s Name</td>\\r\\n' \n",
    "        finish = '</td>\\r\\n                                  </tr>\\r\\n'\n",
    "        dr_name = extract_sub_string(string , start, finish)\n",
    "        dr_name=dr_name.strip()\n",
    "        dr_name = dr_name.split(\">\")[-1]\n",
    "        #dr_name\n",
    "\n",
    "        start = \"<td>Father's Name</td>\"\n",
    "        finish = \"</td>\\r\\n                                  </tr>\"\n",
    "        father = extract_sub_string(string , start, finish)\n",
    "        father = father.strip()\n",
    "        father = father.split(\">\")[-1]\n",
    "        #father\n",
    "\n",
    "        start = '<td> <address> '\n",
    "        finish = \"</address>\"\n",
    "        address = extract_sub_string(string , start, finish)\n",
    "        address = address.strip()\n",
    "        address = address.split(\"<address>\")[-1]\n",
    "        address = address.replace(\"<br/>\",' ').strip()\n",
    "        #address\n",
    "\n",
    "        division = 'Medical'\n",
    "\n",
    "        values = pd.Series()\n",
    "        values['Registration'] = reg_no\n",
    "        values['Name'] = dr_name\n",
    "        values['Father'] = father\n",
    "        values['Address'] = address\n",
    "        values['Division'] = division\n",
    "\n",
    "        tokenized_df.loc[len(tokenized_df)] = values"
   ]
  },
  {
   "cell_type": "code",
   "execution_count": 17,
   "metadata": {
    "collapsed": false
   },
   "outputs": [
    {
     "data": {
      "text/html": [
       "<div style=\"max-height:1000px;max-width:1500px;overflow:auto;\">\n",
       "<table border=\"1\" class=\"dataframe\">\n",
       "  <thead>\n",
       "    <tr style=\"text-align: right;\">\n",
       "      <th></th>\n",
       "      <th>Registration</th>\n",
       "      <th>Name</th>\n",
       "      <th>Father</th>\n",
       "      <th>Address</th>\n",
       "      <th>Division</th>\n",
       "    </tr>\n",
       "  </thead>\n",
       "  <tbody>\n",
       "    <tr>\n",
       "      <th>5000</th>\n",
       "      <td>5100</td>\n",
       "      <td>Md. Shah Mizanur Rahman</td>\n",
       "      <td>NaN</td>\n",
       "      <td>Dist.- Pirojpur</td>\n",
       "      <td>Medical</td>\n",
       "    </tr>\n",
       "    <tr>\n",
       "      <th>5001</th>\n",
       "      <td>5101</td>\n",
       "      <td>Momtaz Khanam</td>\n",
       "      <td>NaN</td>\n",
       "      <td>73 Sabaybash Dhaka</td>\n",
       "      <td>Medical</td>\n",
       "    </tr>\n",
       "    <tr>\n",
       "      <th>5002</th>\n",
       "      <td>5102</td>\n",
       "      <td>Santana Chakravarty</td>\n",
       "      <td>NaN</td>\n",
       "      <td>Supanighat Dist.- Sylhet</td>\n",
       "      <td>Medical</td>\n",
       "    </tr>\n",
       "    <tr>\n",
       "      <th>5003</th>\n",
       "      <td>5103</td>\n",
       "      <td>Md. Masudur Rahman</td>\n",
       "      <td>NaN</td>\n",
       "      <td>Vill- Sarai Bidyapara Dist.- Rangpur</td>\n",
       "      <td>Medical</td>\n",
       "    </tr>\n",
       "    <tr>\n",
       "      <th>5004</th>\n",
       "      <td>5104</td>\n",
       "      <td>Md Abdus Salam</td>\n",
       "      <td>NaN</td>\n",
       "      <td>Vill- Bhalaipur Dist.- Jessore</td>\n",
       "      <td>Medical</td>\n",
       "    </tr>\n",
       "    <tr>\n",
       "      <th>5005</th>\n",
       "      <td>5105</td>\n",
       "      <td>Md. Abdul Wadud</td>\n",
       "      <td>NaN</td>\n",
       "      <td>47 Dhanmondi R/a Dhaka</td>\n",
       "      <td>Medical</td>\n",
       "    </tr>\n",
       "    <tr>\n",
       "      <th>5006</th>\n",
       "      <td>5106</td>\n",
       "      <td>Md. Abdul Wadud</td>\n",
       "      <td>NaN</td>\n",
       "      <td>47, Dhanmondi R/ A, Road No-3 Dhaka</td>\n",
       "      <td>Medical</td>\n",
       "    </tr>\n",
       "    <tr>\n",
       "      <th>5007</th>\n",
       "      <td>5107</td>\n",
       "      <td>A. H. M Mushihur Rahman</td>\n",
       "      <td>NaN</td>\n",
       "      <td>Vill- Shalikhan Dist.- Bogra</td>\n",
       "      <td>Medical</td>\n",
       "    </tr>\n",
       "    <tr>\n",
       "      <th>5008</th>\n",
       "      <td>5108</td>\n",
       "      <td>Md. Bazlur Rahman Khan</td>\n",
       "      <td>NaN</td>\n",
       "      <td>Vill- Kursatoli Dist.- Tangail</td>\n",
       "      <td>Medical</td>\n",
       "    </tr>\n",
       "    <tr>\n",
       "      <th>5009</th>\n",
       "      <td>5109</td>\n",
       "      <td>Feroza Begum</td>\n",
       "      <td>NaN</td>\n",
       "      <td>Eddalat Para Dist.- Patuakhali</td>\n",
       "      <td>Medical</td>\n",
       "    </tr>\n",
       "  </tbody>\n",
       "</table>\n",
       "</div>"
      ],
      "text/plain": [
       "      Registration                     Name Father  \\\n",
       "5000          5100  Md. Shah Mizanur Rahman    NaN   \n",
       "5001          5101            Momtaz Khanam    NaN   \n",
       "5002          5102      Santana Chakravarty    NaN   \n",
       "5003          5103       Md. Masudur Rahman    NaN   \n",
       "5004          5104           Md Abdus Salam    NaN   \n",
       "5005          5105          Md. Abdul Wadud    NaN   \n",
       "5006          5106          Md. Abdul Wadud    NaN   \n",
       "5007          5107  A. H. M Mushihur Rahman    NaN   \n",
       "5008          5108   Md. Bazlur Rahman Khan    NaN   \n",
       "5009          5109             Feroza Begum    NaN   \n",
       "\n",
       "                                   Address Division  \n",
       "5000                       Dist.- Pirojpur  Medical  \n",
       "5001                    73 Sabaybash Dhaka  Medical  \n",
       "5002              Supanighat Dist.- Sylhet  Medical  \n",
       "5003  Vill- Sarai Bidyapara Dist.- Rangpur  Medical  \n",
       "5004        Vill- Bhalaipur Dist.- Jessore  Medical  \n",
       "5005                47 Dhanmondi R/a Dhaka  Medical  \n",
       "5006   47, Dhanmondi R/ A, Road No-3 Dhaka  Medical  \n",
       "5007          Vill- Shalikhan Dist.- Bogra  Medical  \n",
       "5008        Vill- Kursatoli Dist.- Tangail  Medical  \n",
       "5009        Eddalat Para Dist.- Patuakhali  Medical  "
      ]
     },
     "execution_count": 17,
     "metadata": {},
     "output_type": "execute_result"
    }
   ],
   "source": [
    "tokenized_df[5000:5010]"
   ]
  },
  {
   "cell_type": "markdown",
   "metadata": {},
   "source": [
    "###Photo extraction\n",
    "\n",
    "Now we have the information about the doctors. We can also extract the image files containting the photos."
   ]
  },
  {
   "cell_type": "code",
   "execution_count": 15,
   "metadata": {
    "collapsed": false
   },
   "outputs": [],
   "source": [
    "for bma_id in xrange(1,66001):\n",
    "    f = open(str(bma_id)+'.jpg','wb')\n",
    "    f.write(requests.get('http://bmdc.org.bd/dphotos/medical/'+str(bma_id)+'.JPG').content)\n",
    "    f.close()"
   ]
  },
  {
   "cell_type": "markdown",
   "metadata": {},
   "source": [
    "###Storing into Database\n",
    "\n",
    "Until this point the demo work was being done in Django's built-in SQLite database. Now that we have external data source we would be populating a stand-alone databaes so that is can be shared between various apps."
   ]
  },
  {
   "cell_type": "markdown",
   "metadata": {},
   "source": [
    "###To-Do\n",
    "\n",
    "- Completing the extraction. Until this point, around 16000 doctor's information is extracted in 2 nights. Hopefully over the weekend this process will be completed.\n",
    "\n",
    "- Dump all the data into a database."
   ]
  },
  {
   "cell_type": "code",
   "execution_count": null,
   "metadata": {
    "collapsed": true
   },
   "outputs": [],
   "source": []
  }
 ],
 "metadata": {
  "kernelspec": {
   "display_name": "Python 2",
   "language": "python",
   "name": "python2"
  },
  "language_info": {
   "codemirror_mode": {
    "name": "ipython",
    "version": 2
   },
   "file_extension": ".py",
   "mimetype": "text/x-python",
   "name": "python",
   "nbconvert_exporter": "python",
   "pygments_lexer": "ipython2",
   "version": "2.7.9"
  }
 },
 "nbformat": 4,
 "nbformat_minor": 0
}
